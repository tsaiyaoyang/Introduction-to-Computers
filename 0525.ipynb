{
  "nbformat": 4,
  "nbformat_minor": 0,
  "metadata": {
    "colab": {
      "name": "0525.ipynb",
      "provenance": [],
      "authorship_tag": "ABX9TyNsdX1fnpQ537i65JUY2c36",
      "include_colab_link": true
    },
    "kernelspec": {
      "name": "python3",
      "display_name": "Python 3"
    },
    "language_info": {
      "name": "python"
    }
  },
  "cells": [
    {
      "cell_type": "markdown",
      "metadata": {
        "id": "view-in-github",
        "colab_type": "text"
      },
      "source": [
        "<a href=\"https://colab.research.google.com/github/tsaiyaoyang/Introduction-to-Computers/blob/main/0525.ipynb\" target=\"_parent\"><img src=\"https://colab.research.google.com/assets/colab-badge.svg\" alt=\"Open In Colab\"/></a>"
      ]
    },
    {
      "cell_type": "code",
      "execution_count": 4,
      "metadata": {
        "colab": {
          "base_uri": "https://localhost:8080/"
        },
        "id": "bDEPU7WW6KDJ",
        "outputId": "0d04e4d1-9333-4c8a-fd9d-9f4cc1ca3803"
      },
      "outputs": [
        {
          "output_type": "stream",
          "name": "stdout",
          "text": [
            "test\n"
          ]
        }
      ],
      "source": [
        "print('test')"
      ]
    },
    {
      "cell_type": "code",
      "source": [
        "print('test')"
      ],
      "metadata": {
        "colab": {
          "base_uri": "https://localhost:8080/"
        },
        "id": "cY8F_gY-6atW",
        "outputId": "6aee8fb8-7aaf-4be3-d2d6-217e66a659f5"
      },
      "execution_count": 5,
      "outputs": [
        {
          "output_type": "stream",
          "name": "stdout",
          "text": [
            "test\n"
          ]
        }
      ]
    },
    {
      "cell_type": "code",
      "source": [
        "sum = 0\n",
        "test = int(input('請輸入一個正整數:'))\n",
        "for n in range(1, test+1):\n",
        "     sum = sum+n\n",
        "print('1到',test,'的整數何為',sum)"
      ],
      "metadata": {
        "colab": {
          "base_uri": "https://localhost:8080/"
        },
        "id": "6KTGHytO6c0s",
        "outputId": "bdd2e1d4-eb4e-4e59-c784-7faf8514bc69"
      },
      "execution_count": 6,
      "outputs": [
        {
          "output_type": "stream",
          "name": "stdout",
          "text": [
            "請輸入一個正整數:50\n",
            "1到 50 的整數何為 1275\n"
          ]
        }
      ]
    },
    {
      "cell_type": "code",
      "source": [
        "sum = 0 \n",
        "test = int(input('請輸入一個正整數:'))\n",
        "for m in range(1, test+1):\n",
        "     sum = sum+n\n",
        "     print('1到',test,'的整數和為',sum)"
      ],
      "metadata": {
        "colab": {
          "base_uri": "https://localhost:8080/"
        },
        "id": "cdVmRDXl67mB",
        "outputId": "bfa98608-7fe7-44c8-c503-4e81547a8064"
      },
      "execution_count": 7,
      "outputs": [
        {
          "output_type": "stream",
          "name": "stdout",
          "text": [
            "請輸入一個正整數:50\n",
            "1到 50 的整數和為 50\n",
            "1到 50 的整數和為 100\n",
            "1到 50 的整數和為 150\n",
            "1到 50 的整數和為 200\n",
            "1到 50 的整數和為 250\n",
            "1到 50 的整數和為 300\n",
            "1到 50 的整數和為 350\n",
            "1到 50 的整數和為 400\n",
            "1到 50 的整數和為 450\n",
            "1到 50 的整數和為 500\n",
            "1到 50 的整數和為 550\n",
            "1到 50 的整數和為 600\n",
            "1到 50 的整數和為 650\n",
            "1到 50 的整數和為 700\n",
            "1到 50 的整數和為 750\n",
            "1到 50 的整數和為 800\n",
            "1到 50 的整數和為 850\n",
            "1到 50 的整數和為 900\n",
            "1到 50 的整數和為 950\n",
            "1到 50 的整數和為 1000\n",
            "1到 50 的整數和為 1050\n",
            "1到 50 的整數和為 1100\n",
            "1到 50 的整數和為 1150\n",
            "1到 50 的整數和為 1200\n",
            "1到 50 的整數和為 1250\n",
            "1到 50 的整數和為 1300\n",
            "1到 50 的整數和為 1350\n",
            "1到 50 的整數和為 1400\n",
            "1到 50 的整數和為 1450\n",
            "1到 50 的整數和為 1500\n",
            "1到 50 的整數和為 1550\n",
            "1到 50 的整數和為 1600\n",
            "1到 50 的整數和為 1650\n",
            "1到 50 的整數和為 1700\n",
            "1到 50 的整數和為 1750\n",
            "1到 50 的整數和為 1800\n",
            "1到 50 的整數和為 1850\n",
            "1到 50 的整數和為 1900\n",
            "1到 50 的整數和為 1950\n",
            "1到 50 的整數和為 2000\n",
            "1到 50 的整數和為 2050\n",
            "1到 50 的整數和為 2100\n",
            "1到 50 的整數和為 2150\n",
            "1到 50 的整數和為 2200\n",
            "1到 50 的整數和為 2250\n",
            "1到 50 的整數和為 2300\n",
            "1到 50 的整數和為 2350\n",
            "1到 50 的整數和為 2400\n",
            "1到 50 的整數和為 2450\n",
            "1到 50 的整數和為 2500\n"
          ]
        }
      ]
    },
    {
      "cell_type": "code",
      "source": [
        "for j in range(1,5):\n",
        "     print(j)\n",
        "     for i in range(1,3):\n",
        "          k = i*j\n",
        "          print(j,'*',i,'=',k)"
      ],
      "metadata": {
        "colab": {
          "base_uri": "https://localhost:8080/"
        },
        "id": "DmvJ6d9S7dDX",
        "outputId": "12b5fcff-b099-4fff-808c-99c53ef9c36d"
      },
      "execution_count": 9,
      "outputs": [
        {
          "output_type": "stream",
          "name": "stdout",
          "text": [
            "1\n",
            "1 * 1 = 1\n",
            "1 * 2 = 2\n",
            "2\n",
            "2 * 1 = 2\n",
            "2 * 2 = 4\n",
            "3\n",
            "3 * 1 = 3\n",
            "3 * 2 = 6\n",
            "4\n",
            "4 * 1 = 4\n",
            "4 * 2 = 8\n"
          ]
        }
      ]
    },
    {
      "cell_type": "code",
      "source": [
        "for i in range(1,5):\n",
        "     if(i==3):\n",
        "          break\n",
        "     print(i, end = ' ')"
      ],
      "metadata": {
        "colab": {
          "base_uri": "https://localhost:8080/"
        },
        "id": "-xTe55M1759B",
        "outputId": "27271ca5-af25-4610-eb5d-3a0cd44845bd"
      },
      "execution_count": 24,
      "outputs": [
        {
          "output_type": "stream",
          "name": "stdout",
          "text": [
            "1 2 "
          ]
        }
      ]
    },
    {
      "cell_type": "code",
      "source": [
        "count = 0\n",
        "for string in 'hello!' :\n",
        "     count+=1\n",
        "     if string == 'o':\n",
        "          break\n",
        "     print(string)\n",
        "print('迴圈結束')\n",
        "print('迴圈執行了 %d 次'  %count)"
      ],
      "metadata": {
        "colab": {
          "base_uri": "https://localhost:8080/"
        },
        "id": "ViJk8hzO8F-X",
        "outputId": "8f4fbd1f-ed85-4eb0-bce7-a8df3d2b24d1"
      },
      "execution_count": 14,
      "outputs": [
        {
          "output_type": "stream",
          "name": "stdout",
          "text": [
            "h\n",
            "e\n",
            "l\n",
            "l\n",
            "迴圈結束\n",
            "迴圈執行了 5 次\n"
          ]
        }
      ]
    },
    {
      "cell_type": "code",
      "source": [
        "count = 0\n",
        "for string in '測試看看!' :\n",
        "     count+=1\n",
        "     if string == '看':\n",
        "          break\n",
        "     print(string)\n",
        "print('迴圈結束')\n",
        "print('迴圈執行了 %d 次'  %count)\n"
      ],
      "metadata": {
        "colab": {
          "base_uri": "https://localhost:8080/"
        },
        "id": "qkbqVIuL84Xb",
        "outputId": "910cbe6f-2655-4616-d386-e91dcc8b5268"
      },
      "execution_count": 15,
      "outputs": [
        {
          "output_type": "stream",
          "name": "stdout",
          "text": [
            "測\n",
            "試\n",
            "迴圈結束\n",
            "迴圈執行了 3 次\n"
          ]
        }
      ]
    },
    {
      "cell_type": "code",
      "source": [
        "for j in range(1,10):\n",
        "     print(j)\n",
        "     for i in range(1,10):\n",
        "          k = i*j\n",
        "          print(j,'*',i,'=',k)"
      ],
      "metadata": {
        "colab": {
          "base_uri": "https://localhost:8080/"
        },
        "id": "SarGd21M9XZJ",
        "outputId": "19af1ebc-3f21-4b91-a4eb-f4d45aa4675c"
      },
      "execution_count": 23,
      "outputs": [
        {
          "output_type": "stream",
          "name": "stdout",
          "text": [
            "1\n",
            "1 * 1 = 1\n",
            "1 * 2 = 2\n",
            "1 * 3 = 3\n",
            "1 * 4 = 4\n",
            "1 * 5 = 5\n",
            "1 * 6 = 6\n",
            "1 * 7 = 7\n",
            "1 * 8 = 8\n",
            "1 * 9 = 9\n",
            "2\n",
            "2 * 1 = 2\n",
            "2 * 2 = 4\n",
            "2 * 3 = 6\n",
            "2 * 4 = 8\n",
            "2 * 5 = 10\n",
            "2 * 6 = 12\n",
            "2 * 7 = 14\n",
            "2 * 8 = 16\n",
            "2 * 9 = 18\n",
            "3\n",
            "3 * 1 = 3\n",
            "3 * 2 = 6\n",
            "3 * 3 = 9\n",
            "3 * 4 = 12\n",
            "3 * 5 = 15\n",
            "3 * 6 = 18\n",
            "3 * 7 = 21\n",
            "3 * 8 = 24\n",
            "3 * 9 = 27\n",
            "4\n",
            "4 * 1 = 4\n",
            "4 * 2 = 8\n",
            "4 * 3 = 12\n",
            "4 * 4 = 16\n",
            "4 * 5 = 20\n",
            "4 * 6 = 24\n",
            "4 * 7 = 28\n",
            "4 * 8 = 32\n",
            "4 * 9 = 36\n",
            "5\n",
            "5 * 1 = 5\n",
            "5 * 2 = 10\n",
            "5 * 3 = 15\n",
            "5 * 4 = 20\n",
            "5 * 5 = 25\n",
            "5 * 6 = 30\n",
            "5 * 7 = 35\n",
            "5 * 8 = 40\n",
            "5 * 9 = 45\n",
            "6\n",
            "6 * 1 = 6\n",
            "6 * 2 = 12\n",
            "6 * 3 = 18\n",
            "6 * 4 = 24\n",
            "6 * 5 = 30\n",
            "6 * 6 = 36\n",
            "6 * 7 = 42\n",
            "6 * 8 = 48\n",
            "6 * 9 = 54\n",
            "7\n",
            "7 * 1 = 7\n",
            "7 * 2 = 14\n",
            "7 * 3 = 21\n",
            "7 * 4 = 28\n",
            "7 * 5 = 35\n",
            "7 * 6 = 42\n",
            "7 * 7 = 49\n",
            "7 * 8 = 56\n",
            "7 * 9 = 63\n",
            "8\n",
            "8 * 1 = 8\n",
            "8 * 2 = 16\n",
            "8 * 3 = 24\n",
            "8 * 4 = 32\n",
            "8 * 5 = 40\n",
            "8 * 6 = 48\n",
            "8 * 7 = 56\n",
            "8 * 8 = 64\n",
            "8 * 9 = 72\n",
            "9\n",
            "9 * 1 = 9\n",
            "9 * 2 = 18\n",
            "9 * 3 = 27\n",
            "9 * 4 = 36\n",
            "9 * 5 = 45\n",
            "9 * 6 = 54\n",
            "9 * 7 = 63\n",
            "9 * 8 = 72\n",
            "9 * 9 = 81\n"
          ]
        }
      ]
    }
  ]
}