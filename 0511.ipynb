{
  "nbformat": 4,
  "nbformat_minor": 0,
  "metadata": {
    "colab": {
      "name": "0511.ipynb",
      "provenance": [],
      "authorship_tag": "ABX9TyOaY65LMnNdehjXuVmVxeRg",
      "include_colab_link": true
    },
    "kernelspec": {
      "name": "python3",
      "display_name": "Python 3"
    },
    "language_info": {
      "name": "python"
    }
  },
  "cells": [
    {
      "cell_type": "markdown",
      "metadata": {
        "id": "view-in-github",
        "colab_type": "text"
      },
      "source": [
        "<a href=\"https://colab.research.google.com/github/tsaiyaoyang/Introduction-to-Computers/blob/main/0511.ipynb\" target=\"_parent\"><img src=\"https://colab.research.google.com/assets/colab-badge.svg\" alt=\"Open In Colab\"/></a>"
      ]
    },
    {
      "cell_type": "code",
      "execution_count": 1,
      "metadata": {
        "colab": {
          "base_uri": "https://localhost:8080/"
        },
        "id": "dMNhxpiq4dB8",
        "outputId": "07cb4836-cb47-4dfb-c38a-e8fca538fcc2"
      },
      "outputs": [
        {
          "output_type": "stream",
          "name": "stdout",
          "text": [
            "test\n"
          ]
        }
      ],
      "source": [
        "print('test')"
      ]
    },
    {
      "cell_type": "code",
      "source": [
        "temp = float(input('請輸入你的體溫'))\n",
        "if temp >= 37.5:\n",
        "    print('體溫過高!' )\n",
        "elif temp >= 37 and temp <37.4:\n",
        "    print('體溫略高!')\n",
        "elif temp >= 37 and temp <36.9:\n",
        "    print('體溫正常!')\n",
        "else:\n",
        "    print('體溫異常,請重新量測!')"
      ],
      "metadata": {
        "colab": {
          "base_uri": "https://localhost:8080/"
        },
        "id": "Lt3eV6Ic5WoN",
        "outputId": "e3863cd5-7cc7-45cb-f392-90c0f2d4624c"
      },
      "execution_count": 24,
      "outputs": [
        {
          "output_type": "stream",
          "name": "stdout",
          "text": [
            "請輸入你的體溫37.5\n",
            "體溫過高!\n"
          ]
        }
      ]
    },
    {
      "cell_type": "code",
      "source": [
        "money = int(input('請輸入購物金額'))\n",
        "if (money >= 10000):\n",
        "     if (money >= 100000): \n",
        "          print('八折', money * 0.8, end= '元\\n')\n",
        "     elif(money >= 50000):\n",
        "          print('八五折', money * 0.85, end= '元\\n')\n",
        "     elif(money >= 30000):\n",
        "          print('九折', money * 0.9, end= '元\\n')\n",
        "     else:\n",
        "         print('九五折', money * 0.95, end= '元\\n')\n",
        "else:\n",
        "     print('沒打折', money, end= '元\\n')"
      ],
      "metadata": {
        "colab": {
          "base_uri": "https://localhost:8080/"
        },
        "id": "nC4BjVk_6i_f",
        "outputId": "fbc9fa4e-db10-46f5-8aa1-9aca6c3e6f25"
      },
      "execution_count": 15,
      "outputs": [
        {
          "output_type": "stream",
          "name": "stdout",
          "text": [
            "請輸入購物金額50000\n",
            "八五折 42500.0元\n"
          ]
        }
      ]
    },
    {
      "cell_type": "code",
      "source": [
        "score = float(input('請輸入成績'))\n",
        "if score >= 90:\n",
        "       print('A' )\n",
        "elif score >= 80and score <89:\n",
        "       print('Ｂ')\n",
        "elif score >=70 and score <80:\n",
        "    print('Ｃ')\n",
        "elif score >=60 and score <70:\n",
        "    print('Ｄ')\n",
        "\n",
        "else:\n",
        "    print('E')"
      ],
      "metadata": {
        "colab": {
          "base_uri": "https://localhost:8080/"
        },
        "id": "1vxYy8Gz-x9I",
        "outputId": "3c2a845e-689a-49fc-f180-0d312e100542"
      },
      "execution_count": 40,
      "outputs": [
        {
          "output_type": "stream",
          "name": "stdout",
          "text": [
            "請輸入成績80\n",
            "Ｂ\n"
          ]
        }
      ]
    },
    {
      "cell_type": "code",
      "source": [
        "month = float(input('請輸入月份'))\n",
        "if month >= 5 and month <2:\n",
        "       print('月是春天' )\n",
        "elif month >= 6and month <9:\n",
        "       print('月是夏天')\n",
        "elif month >= 9and month <12:\n",
        "    print('月是秋天')\n",
        "elif month >=11 and month <13:\n",
        "    print('月是冬天')\n",
        "elif month >=1 and month <3:\n",
        "    print('月是冬天')\n",
        "else:\n",
        "    print('月份不在範圍內')"
      ],
      "metadata": {
        "colab": {
          "base_uri": "https://localhost:8080/"
        },
        "id": "69FwseLKBjZo",
        "outputId": "5da12573-3085-4681-f023-21646a820540"
      },
      "execution_count": 51,
      "outputs": [
        {
          "output_type": "stream",
          "name": "stdout",
          "text": [
            "請輸入月份1\n",
            "月是冬天\n"
          ]
        }
      ]
    },
    {
      "cell_type": "code",
      "source": [
        "tax = int(input('請輸入今年收入淨額'))\n",
        "if (tax >= 100001):\n",
        "     if (tax >= 2000000): \n",
        "          print('付稅金額', tax * 0.3, end= '元\\n')\n",
        "     elif(money >= 1000000):\n",
        "          print('付稅金額', tax * 0.21, end= '元\\n')\n",
        "     elif(money >= 600000):\n",
        "          print('付稅金額', tax * 0.13, end= '元\\n')\n",
        "     elif(money >= 300000):\n",
        "         print('付稅金額', tax * 0.06, end= '元\\n')\n",
        "else:\n",
        "     print('付稅金額0',  end= '元\\n')"
      ],
      "metadata": {
        "colab": {
          "base_uri": "https://localhost:8080/"
        },
        "id": "9BFQmRE2En7K",
        "outputId": "31fa7a89-447e-47d9-dd4d-7a26676eabf5"
      },
      "execution_count": 59,
      "outputs": [
        {
          "output_type": "stream",
          "name": "stdout",
          "text": [
            "請輸入今年收入淨額2000000\n",
            "付稅金額 600000.0元\n"
          ]
        }
      ]
    }
  ]
}